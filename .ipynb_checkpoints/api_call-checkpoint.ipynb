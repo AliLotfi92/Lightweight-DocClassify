{
 "cells": [
  {
   "cell_type": "markdown",
   "id": "403feffd-77db-468e-a8e0-41f7e1d873a6",
   "metadata": {},
   "source": [
    "### Testing the api on the test dataset"
   ]
  },
  {
   "cell_type": "code",
   "execution_count": 5,
   "id": "c6448627-eafb-4af2-be07-54c4c7bb8bfd",
   "metadata": {},
   "outputs": [],
   "source": [
    "import requests\n",
    "import pandas as pd\n",
    "from sklearn.metrics import classification_report\n",
    "\n",
    "df_test = pd.read_csv(\"data/test_dataset.csv\")\n",
    "\n",
    "text = df_test[\"Text\"].tolist()\n",
    "y_test = df_test[\"label_num\"].tolist()"
   ]
  },
  {
   "cell_type": "code",
   "execution_count": 4,
   "id": "ab7a6c9a-1a61-42cc-add4-100b09705b07",
   "metadata": {},
   "outputs": [
    {
     "ename": "JSONDecodeError",
     "evalue": "Expecting value: line 1 column 1 (char 0)",
     "output_type": "error",
     "traceback": [
      "\u001b[0;31m---------------------------------------------------------------------------\u001b[0m",
      "\u001b[0;31mJSONDecodeError\u001b[0m                           Traceback (most recent call last)",
      "File \u001b[0;32m~/anaconda3/envs/myenv/lib/python3.11/site-packages/requests/models.py:974\u001b[0m, in \u001b[0;36mResponse.json\u001b[0;34m(self, **kwargs)\u001b[0m\n\u001b[1;32m    973\u001b[0m \u001b[38;5;28;01mtry\u001b[39;00m:\n\u001b[0;32m--> 974\u001b[0m     \u001b[38;5;28;01mreturn\u001b[39;00m complexjson\u001b[38;5;241m.\u001b[39mloads(\u001b[38;5;28mself\u001b[39m\u001b[38;5;241m.\u001b[39mtext, \u001b[38;5;241m*\u001b[39m\u001b[38;5;241m*\u001b[39mkwargs)\n\u001b[1;32m    975\u001b[0m \u001b[38;5;28;01mexcept\u001b[39;00m JSONDecodeError \u001b[38;5;28;01mas\u001b[39;00m e:\n\u001b[1;32m    976\u001b[0m     \u001b[38;5;66;03m# Catch JSON-related errors and raise as requests.JSONDecodeError\u001b[39;00m\n\u001b[1;32m    977\u001b[0m     \u001b[38;5;66;03m# This aliases json.JSONDecodeError and simplejson.JSONDecodeError\u001b[39;00m\n",
      "File \u001b[0;32m~/anaconda3/envs/myenv/lib/python3.11/json/__init__.py:346\u001b[0m, in \u001b[0;36mloads\u001b[0;34m(s, cls, object_hook, parse_float, parse_int, parse_constant, object_pairs_hook, **kw)\u001b[0m\n\u001b[1;32m    343\u001b[0m \u001b[38;5;28;01mif\u001b[39;00m (\u001b[38;5;28mcls\u001b[39m \u001b[38;5;129;01mis\u001b[39;00m \u001b[38;5;28;01mNone\u001b[39;00m \u001b[38;5;129;01mand\u001b[39;00m object_hook \u001b[38;5;129;01mis\u001b[39;00m \u001b[38;5;28;01mNone\u001b[39;00m \u001b[38;5;129;01mand\u001b[39;00m\n\u001b[1;32m    344\u001b[0m         parse_int \u001b[38;5;129;01mis\u001b[39;00m \u001b[38;5;28;01mNone\u001b[39;00m \u001b[38;5;129;01mand\u001b[39;00m parse_float \u001b[38;5;129;01mis\u001b[39;00m \u001b[38;5;28;01mNone\u001b[39;00m \u001b[38;5;129;01mand\u001b[39;00m\n\u001b[1;32m    345\u001b[0m         parse_constant \u001b[38;5;129;01mis\u001b[39;00m \u001b[38;5;28;01mNone\u001b[39;00m \u001b[38;5;129;01mand\u001b[39;00m object_pairs_hook \u001b[38;5;129;01mis\u001b[39;00m \u001b[38;5;28;01mNone\u001b[39;00m \u001b[38;5;129;01mand\u001b[39;00m \u001b[38;5;129;01mnot\u001b[39;00m kw):\n\u001b[0;32m--> 346\u001b[0m     \u001b[38;5;28;01mreturn\u001b[39;00m _default_decoder\u001b[38;5;241m.\u001b[39mdecode(s)\n\u001b[1;32m    347\u001b[0m \u001b[38;5;28;01mif\u001b[39;00m \u001b[38;5;28mcls\u001b[39m \u001b[38;5;129;01mis\u001b[39;00m \u001b[38;5;28;01mNone\u001b[39;00m:\n",
      "File \u001b[0;32m~/anaconda3/envs/myenv/lib/python3.11/json/decoder.py:337\u001b[0m, in \u001b[0;36mJSONDecoder.decode\u001b[0;34m(self, s, _w)\u001b[0m\n\u001b[1;32m    333\u001b[0m \u001b[38;5;250m\u001b[39m\u001b[38;5;124;03m\"\"\"Return the Python representation of ``s`` (a ``str`` instance\u001b[39;00m\n\u001b[1;32m    334\u001b[0m \u001b[38;5;124;03mcontaining a JSON document).\u001b[39;00m\n\u001b[1;32m    335\u001b[0m \n\u001b[1;32m    336\u001b[0m \u001b[38;5;124;03m\"\"\"\u001b[39;00m\n\u001b[0;32m--> 337\u001b[0m obj, end \u001b[38;5;241m=\u001b[39m \u001b[38;5;28mself\u001b[39m\u001b[38;5;241m.\u001b[39mraw_decode(s, idx\u001b[38;5;241m=\u001b[39m_w(s, \u001b[38;5;241m0\u001b[39m)\u001b[38;5;241m.\u001b[39mend())\n\u001b[1;32m    338\u001b[0m end \u001b[38;5;241m=\u001b[39m _w(s, end)\u001b[38;5;241m.\u001b[39mend()\n",
      "File \u001b[0;32m~/anaconda3/envs/myenv/lib/python3.11/json/decoder.py:355\u001b[0m, in \u001b[0;36mJSONDecoder.raw_decode\u001b[0;34m(self, s, idx)\u001b[0m\n\u001b[1;32m    354\u001b[0m \u001b[38;5;28;01mexcept\u001b[39;00m \u001b[38;5;167;01mStopIteration\u001b[39;00m \u001b[38;5;28;01mas\u001b[39;00m err:\n\u001b[0;32m--> 355\u001b[0m     \u001b[38;5;28;01mraise\u001b[39;00m JSONDecodeError(\u001b[38;5;124m\"\u001b[39m\u001b[38;5;124mExpecting value\u001b[39m\u001b[38;5;124m\"\u001b[39m, s, err\u001b[38;5;241m.\u001b[39mvalue) \u001b[38;5;28;01mfrom\u001b[39;00m \u001b[38;5;28;01mNone\u001b[39;00m\n\u001b[1;32m    356\u001b[0m \u001b[38;5;28;01mreturn\u001b[39;00m obj, end\n",
      "\u001b[0;31mJSONDecodeError\u001b[0m: Expecting value: line 1 column 1 (char 0)",
      "\nDuring handling of the above exception, another exception occurred:\n",
      "\u001b[0;31mJSONDecodeError\u001b[0m                           Traceback (most recent call last)",
      "Cell \u001b[0;32mIn[4], line 7\u001b[0m\n\u001b[1;32m      2\u001b[0m data \u001b[38;5;241m=\u001b[39m {\n\u001b[1;32m      3\u001b[0m     \u001b[38;5;124m'\u001b[39m\u001b[38;5;124mmessages\u001b[39m\u001b[38;5;124m'\u001b[39m: text\n\u001b[1;32m      4\u001b[0m }\n\u001b[1;32m      6\u001b[0m response \u001b[38;5;241m=\u001b[39m requests\u001b[38;5;241m.\u001b[39mpost(url, json\u001b[38;5;241m=\u001b[39mdata)\n\u001b[0;32m----> 7\u001b[0m response \u001b[38;5;241m=\u001b[39m response\u001b[38;5;241m.\u001b[39mjson()\n\u001b[1;32m      9\u001b[0m \u001b[38;5;66;03m# prediction int (class)\u001b[39;00m\n\u001b[1;32m     10\u001b[0m y_final_pred \u001b[38;5;241m=\u001b[39m response[\u001b[38;5;124m'\u001b[39m\u001b[38;5;124mpredictions\u001b[39m\u001b[38;5;124m'\u001b[39m]\n",
      "File \u001b[0;32m~/anaconda3/envs/myenv/lib/python3.11/site-packages/requests/models.py:978\u001b[0m, in \u001b[0;36mResponse.json\u001b[0;34m(self, **kwargs)\u001b[0m\n\u001b[1;32m    974\u001b[0m     \u001b[38;5;28;01mreturn\u001b[39;00m complexjson\u001b[38;5;241m.\u001b[39mloads(\u001b[38;5;28mself\u001b[39m\u001b[38;5;241m.\u001b[39mtext, \u001b[38;5;241m*\u001b[39m\u001b[38;5;241m*\u001b[39mkwargs)\n\u001b[1;32m    975\u001b[0m \u001b[38;5;28;01mexcept\u001b[39;00m JSONDecodeError \u001b[38;5;28;01mas\u001b[39;00m e:\n\u001b[1;32m    976\u001b[0m     \u001b[38;5;66;03m# Catch JSON-related errors and raise as requests.JSONDecodeError\u001b[39;00m\n\u001b[1;32m    977\u001b[0m     \u001b[38;5;66;03m# This aliases json.JSONDecodeError and simplejson.JSONDecodeError\u001b[39;00m\n\u001b[0;32m--> 978\u001b[0m     \u001b[38;5;28;01mraise\u001b[39;00m RequestsJSONDecodeError(e\u001b[38;5;241m.\u001b[39mmsg, e\u001b[38;5;241m.\u001b[39mdoc, e\u001b[38;5;241m.\u001b[39mpos)\n",
      "\u001b[0;31mJSONDecodeError\u001b[0m: Expecting value: line 1 column 1 (char 0)"
     ]
    }
   ],
   "source": [
    "url = 'http://127.0.0.1:5001/predict'\n",
    "data = {\n",
    "    'text': text\n",
    "}\n",
    "\n",
    "response = requests.post(url, json=data)\n",
    "response = response.json()\n",
    "\n",
    "# prediction int (class)\n",
    "y_final_pred = response['predictions']\n",
    "# prediction str \n",
    "y_final_pred_str = response['predictions_str']\n",
    "# final probability\n",
    "y_final_prob = response['probabilities']\n",
    "# probaility for each stacking classifier\n",
    "y_class_prob = response['classifiers_probabilities']\n"
   ]
  },
  {
   "cell_type": "code",
   "execution_count": 21,
   "id": "797e39d7-5513-4d11-9adc-84cd6799bfa7",
   "metadata": {},
   "outputs": [
    {
     "name": "stdout",
     "output_type": "stream",
     "text": [
      "              precision    recall  f1-score   support\n",
      "\n",
      "           0       0.98      0.96      0.97       196\n",
      "           1       0.96      0.98      0.97       191\n",
      "\n",
      "    accuracy                           0.97       387\n",
      "   macro avg       0.97      0.97      0.97       387\n",
      "weighted avg       0.97      0.97      0.97       387\n",
      "\n"
     ]
    }
   ],
   "source": [
    "print(classification_report(y_test, y_final_pred))"
   ]
  },
  {
   "cell_type": "markdown",
   "id": "76a4a68a-7427-40d8-a69c-7b94a879be9c",
   "metadata": {},
   "source": [
    "##### the same results are achieved, api works fine"
   ]
  },
  {
   "cell_type": "code",
   "execution_count": 22,
   "id": "f3bb1666-e26d-4585-9706-1581b870c3da",
   "metadata": {},
   "outputs": [
    {
     "data": {
      "text/plain": [
       "(\"In <1993Apr15.040118.29272@slcs.slb.com> dcd@se.houston.geoquest.slb.com (Dan Day) writes:\\n\\n>In article <C5HHGM.1rM@constellation.ecn.uoknor.edu> callison@uokmax.ecn.uoknor.edu (James P. Callison) writes:\\n>>In article <1993Apr13.215605.26252@slcs.slb.com> dcd@se.houston.geoquest.slb.com (Dan Day) writes:\\n>>>\\n>>>How about those really ugly fake wheel compartments stuck onto the\\n>>>trunk or side (or both sides!) of some tacky luxury cars?\\n>>\\n>>Some of 'em aren't fake (if you're talking about the Continental kit,\\n>>named after the Lincoln Continental, the first car to sport one). I\\n>>personally would _love_ to have a '56 T-Bird with a Continental kit\\n>>(and the supercharged V-8 :-); that is one of the most beautiful\\n>>cars ever built, IMHO.\\n\\nI'd go for a '39 Lincoln Continental if I could find one. Sad part is\\nthat Edsel Ford designed it, and look at the abortion they named after\\nhim. Ain't no justice.\\n\\n\\n>Okay, I'll admit it looks nice on the T-Bird (as a previous owner\\n>of 1967 and 1968 Thunderbirds, I'm biased anyway).\",\n",
       " [[0.9976222723186048, 0.0023777276813952914],\n",
       "  [0.9369268301728666, 0.06307316982713373],\n",
       "  [0.88, 0.12],\n",
       "  [0.92, 0.08],\n",
       "  [0.9919283390045166, 0.00807167124003172]],\n",
       " 'auto')"
      ]
     },
     "execution_count": 22,
     "metadata": {},
     "output_type": "execute_result"
    }
   ],
   "source": [
    "message[1], y_class_prob[1], y_final_pred_str[1]"
   ]
  },
  {
   "cell_type": "markdown",
   "id": "c0b33f37-1fe4-4f9f-be36-11a9ea627e92",
   "metadata": {},
   "source": [
    "### this shows the probability for each classifier\n",
    "  'svc': SVC(kernel=\"sigmoid\", gamma=1.0, probability=True),\n",
    "        'nb': MultinomialNB(),\n",
    "        'rf': RandomForestClassifier(n_estimators=50, random_state=2),\n",
    "        'etc': ExtraTreesClassifier(n_estimators=50, random_state=2),\n",
    "        'xgb': XGBClassifier(n_estimators=50, random_state=2),\n",
    "##  suppert vector classifier, multinomail naive bayes, random forest, extra tree classifier, XGBoost \n",
    "## these 5 classifier are selected among other classifier due to their perofmance via cross validation"
   ]
  },
  {
   "cell_type": "code",
   "execution_count": null,
   "id": "b78046da-bbf4-40f5-b07c-b7fa426726ac",
   "metadata": {},
   "outputs": [],
   "source": []
  }
 ],
 "metadata": {
  "kernelspec": {
   "display_name": "Python 3 (ipykernel)",
   "language": "python",
   "name": "python3"
  },
  "language_info": {
   "codemirror_mode": {
    "name": "ipython",
    "version": 3
   },
   "file_extension": ".py",
   "mimetype": "text/x-python",
   "name": "python",
   "nbconvert_exporter": "python",
   "pygments_lexer": "ipython3",
   "version": "3.11.9"
  }
 },
 "nbformat": 4,
 "nbformat_minor": 5
}
