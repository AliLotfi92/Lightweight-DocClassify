{
 "cells": [
  {
   "cell_type": "markdown",
   "id": "403feffd-77db-468e-a8e0-41f7e1d873a6",
   "metadata": {},
   "source": [
    "### Testing the api on the test dataset"
   ]
  },
  {
   "cell_type": "code",
   "execution_count": 28,
   "id": "c6448627-eafb-4af2-be07-54c4c7bb8bfd",
   "metadata": {},
   "outputs": [],
   "source": [
    "import requests\n",
    "import pandas as pd\n",
    "from sklearn.metrics import classification_report\n",
    "\n",
    "df_test = pd.read_csv(\"data/test_dataset.csv\")\n",
    "\n",
    "texts = df_test[\"Text\"].tolist()\n",
    "y_test = df_test[\"Label\"].tolist()"
   ]
  },
  {
   "cell_type": "code",
   "execution_count": 29,
   "id": "ab7a6c9a-1a61-42cc-add4-100b09705b07",
   "metadata": {},
   "outputs": [],
   "source": [
    "url = 'http://127.0.0.1:5001/predict'\n",
    "data = {\n",
    "    'texts': texts\n",
    "}\n",
    "\n",
    "response = requests.post(url, json=data)\n",
    "response = response.json()\n",
    "\n",
    "# prediction int (class)\n",
    "y_final_pred = response['predictions']\n",
    "# prediction str \n",
    "y_final_pred_str = response['predictions_str']\n",
    "# final probability\n",
    "y_final_prob = response['probabilities']\n",
    "# probaility for each stacking classifier\n",
    "y_class_prob = response['classifiers_probabilities']\n"
   ]
  },
  {
   "cell_type": "code",
   "execution_count": 32,
   "id": "797e39d7-5513-4d11-9adc-84cd6799bfa7",
   "metadata": {},
   "outputs": [
    {
     "name": "stdout",
     "output_type": "stream",
     "text": [
      "              precision    recall  f1-score   support\n",
      "\n",
      "           0       0.99      1.00      0.99        71\n",
      "           1       1.00      1.00      1.00       117\n",
      "           2       1.00      1.00      1.00        76\n",
      "           3       1.00      0.99      0.99        85\n",
      "           4       0.99      0.99      0.99        96\n",
      "\n",
      "    accuracy                           1.00       445\n",
      "   macro avg       1.00      1.00      1.00       445\n",
      "weighted avg       1.00      1.00      1.00       445\n",
      "\n"
     ]
    }
   ],
   "source": [
    "print(classification_report(y_test, y_final_pred))"
   ]
  },
  {
   "cell_type": "markdown",
   "id": "76a4a68a-7427-40d8-a69c-7b94a879be9c",
   "metadata": {},
   "source": [
    "##### the same results are achieved, api works fine"
   ]
  },
  {
   "cell_type": "code",
   "execution_count": 33,
   "id": "f3bb1666-e26d-4585-9706-1581b870c3da",
   "metadata": {},
   "outputs": [
    {
     "data": {
      "text/plain": [
       "('Net fingerprints combat attacks\\n \\n Eighty large net service firms have switched on software to spot and stop net attacks automatically.\\n \\n The system creates digital fingerprints of ongoing incidents that are sent to every network affected. Firms involved in the smart sensing system believe it will help trace attacks back to their source. Data gathered will be passed to police to help build up intelligence about who is behind worm outbreaks and denial of service attacks.\\n \\n Firms signing up for the sensing system include MCI, BT, Deutsche Telekom, Energis, NTT, Bell Canada and many others. The creation of the fingerprinting system has been brokered by US firm Arbor Networks and signatures of attacks will be passed to anyone suffering under the weight of an attack. Increasingly computer criminals are using swarms of remotely controlled computers to carry out denial of service attacks on websites, launch worms and relay spam around the net. \"We have seen attacks involving five and ten gigabytes of traffic,\" said Rob Pollard, sales director for Arbor Networks which is behind the fingerprinting system. \"Attacks of that size cause collateral damage as they cross the internet before they get to their destination,\" he said. Once an attack is spotted and its signature defined the information will be passed back down the chain of networks affected to help every unwitting player tackle the problem.\\n \\n Mr Pollard said Arbor was not charging for the service and it would pass on fingerprint data to every network affected. \"What we want to do is help net service firms communicate with each other and then push the attacks further and further back around the world to their source,\" said Mr Pollard. Arbor Network\\'s technology works by building up a detailed history of traffic on a network. It spots which computers or groups of users regularly talk to each other and what types of traffic passes between machines or workgroups. Any anomaly to this usual pattern is spotted and flagged to network administrators who can take action if the traffic is due to a net-based attack of some kind. This type of close analysis has become very useful as net attacks are increasingly launched using several hundred or thousand different machines. Anyone looking at the traffic on a machine by machine basis would be unlikely to spot that they were all part of a concerted attack. \"Attacks are getting more diffuse and more sophisticated,\" said Malcolm Seagrave, security expert at Energis. \"In the last 12 months it started getting noticeable that criminals were taking to it and we\\'ve seen massive growth.\" He said that although informal systems exist to pass on information about attacks, often commercial confidentiality got in the way of sharing enough information to properly combat attacks.\\n',\n",
       " [[4.964347610533645e-08,\n",
       "   2.0784550652228355e-08,\n",
       "   0.9999196715005356,\n",
       "   2.159965877624574e-05,\n",
       "   5.865841266136904e-05],\n",
       "  [0.012617886690901536,\n",
       "   0.0029627222625651013,\n",
       "   0.9672813353971066,\n",
       "   0.0038961631260298044,\n",
       "   0.013241892523394914],\n",
       "  [0.02, 0.02, 0.9, 0.02, 0.04],\n",
       "  [0.0, 0.0, 1.0, 0.0, 0.0],\n",
       "  [5.0288374040974304e-05,\n",
       "   1.7662730897427537e-05,\n",
       "   0.9997615218162537,\n",
       "   2.093592229357455e-05,\n",
       "   0.00014956571976654232]],\n",
       " 'Technology')"
      ]
     },
     "execution_count": 33,
     "metadata": {},
     "output_type": "execute_result"
    }
   ],
   "source": [
    "texts[1], y_class_prob[1], y_final_pred_str[1]"
   ]
  },
  {
   "cell_type": "markdown",
   "id": "c0b33f37-1fe4-4f9f-be36-11a9ea627e92",
   "metadata": {},
   "source": [
    "### this shows the probability for each classifier\n",
    "  'svc': SVC(kernel=\"sigmoid\", gamma=1.0, probability=True),\n",
    "        'nb': MultinomialNB(),\n",
    "        'rf': RandomForestClassifier(n_estimators=50, random_state=2),\n",
    "        'etc': ExtraTreesClassifier(n_estimators=50, random_state=2),\n",
    "        'xgb': XGBClassifier(n_estimators=50, random_state=2),\n",
    "##  suppert vector classifier, multinomail naive bayes, random forest, extra tree classifier, XGBoost \n",
    "## these 5 classifier are selected among other classifier due to their perofmance via cross validation"
   ]
  },
  {
   "cell_type": "code",
   "execution_count": null,
   "id": "b78046da-bbf4-40f5-b07c-b7fa426726ac",
   "metadata": {},
   "outputs": [],
   "source": []
  }
 ],
 "metadata": {
  "kernelspec": {
   "display_name": "Python 3 (ipykernel)",
   "language": "python",
   "name": "python3"
  },
  "language_info": {
   "codemirror_mode": {
    "name": "ipython",
    "version": 3
   },
   "file_extension": ".py",
   "mimetype": "text/x-python",
   "name": "python",
   "nbconvert_exporter": "python",
   "pygments_lexer": "ipython3",
   "version": "3.11.9"
  }
 },
 "nbformat": 4,
 "nbformat_minor": 5
}
